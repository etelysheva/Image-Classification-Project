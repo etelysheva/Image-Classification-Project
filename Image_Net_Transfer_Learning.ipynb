{
  "cells": [
    {
      "cell_type": "markdown",
      "metadata": {
        "id": "BSXZ-TEPLXk8"
      },
      "source": [
        "### Problem Statement\n",
        "Using PyTorch, set up the pre-trained\n",
        "network ResNet50. Obtain 10 of your own images that are similar to ImageNet classes\n",
        "and classify them. Choose 10 images from 5 different classes (2 images per class).\n",
        "Report the confusion matrix, the accuracy, the f-score, precision and recall of your\n",
        "classifier. There should be 6 classes representing the 5 classes that your images belong\n",
        "to as well as an 6th ’other’ class."
      ]
    },
    {
      "cell_type": "markdown",
      "metadata": {
        "id": "guV8l808LXlD"
      },
      "source": [
        "### Load required modules"
      ]
    },
    {
      "cell_type": "code",
      "execution_count": null,
      "metadata": {
        "id": "kPfE6yf2LXlJ"
      },
      "outputs": [],
      "source": [
        "import torch\n",
        "from torch.utils.data import Dataset, DataLoader\n",
        "import torchvision.models as models\n",
        "import torchvision.datasets as datasets\n",
        "import torchvision.transforms as transforms\n",
        "import numpy as np\n",
        "import ntpath\n",
        "import glob\n",
        "import sklearn.metrics\n",
        "from PIL import Image"
      ]
    },
    {
      "cell_type": "code",
      "execution_count": null,
      "metadata": {
        "colab": {
          "base_uri": "https://localhost:8080/",
          "height": 86,
          "referenced_widgets": [
            "de6c842ccad5452f94d0288f2e2aff50",
            "7be9dfe751474f5695fc8321b0d832bc",
            "7e2932099f5c481fa3f2e0fe48f0bb0f",
            "6e8dcebcad084e4b89a1d5a9286bfe37",
            "bf06573b6aa6430e9561663738e722bd",
            "3c42c63960044293b3bb6c5cacd64a37",
            "1c27bb451a2d43a68e046b137a3dd992",
            "aaf6890d0b4847f3968952f595ecb8ff"
          ]
        },
        "id": "jDCk0_J5LXlq",
        "outputId": "8ef94999-388a-49f3-f9aa-0d7e5dee309b"
      },
      "outputs": [
        {
          "name": "stderr",
          "output_type": "stream",
          "text": [
            "Downloading: \"https://download.pytorch.org/models/wide_resnet50_2-95faca4d.pth\" to /root/.cache/torch/hub/checkpoints/wide_resnet50_2-95faca4d.pth\n"
          ]
        },
        {
          "data": {
            "application/vnd.jupyter.widget-view+json": {
              "model_id": "de6c842ccad5452f94d0288f2e2aff50",
              "version_major": 2,
              "version_minor": 0
            },
            "text/plain": [
              "HBox(children=(FloatProgress(value=0.0, max=138223492.0), HTML(value='')))"
            ]
          },
          "metadata": {
            "tags": []
          },
          "output_type": "display_data"
        },
        {
          "name": "stdout",
          "output_type": "stream",
          "text": [
            "\n"
          ]
        }
      ],
      "source": [
        "# Load pretrained ResNet50 model\n",
        "# https://pytorch.org/docs/stable/torchvision/models.html\n",
        "# Tip: When loading model make sure pretrain argument set to True\n",
        "# Tip: Good resource for PyTorch projects: https://github.com/pytorch/examples/blob/master/mnist/main.py\n",
        "\n",
        "device = torch.device(\"cuda\" if torch.cuda.is_available() else \"cpu\")  # use gpu device\n",
        "resnet50 = models.wide_resnet50_2(pretrained=True)\n",
        "model = resnet50 # load model from torchvision.models\n",
        "model = model.to(device)  # model operations are sent to GPU\n"
      ]
    },
    {
      "cell_type": "code",
      "execution_count": null,
      "metadata": {
        "colab": {
          "base_uri": "https://localhost:8080/",
          "height": 35
        },
        "id": "a-HeX9pSO3kb",
        "outputId": "4f60bfc1-efa4-4b7b-81bf-6df2790c3ab1"
      },
      "outputs": [
        {
          "name": "stdout",
          "output_type": "stream",
          "text": [
            "Mounted at /content/drive\n"
          ]
        }
      ],
      "source": [
        "from google.colab import drive\n",
        "drive.mount('/content/drive')\n"
      ]
    },
    {
      "cell_type": "code",
      "execution_count": null,
      "metadata": {
        "colab": {
          "base_uri": "https://localhost:8080/",
          "height": 35
        },
        "id": "XBe9RIROPXlS",
        "outputId": "7f5507c3-bf38-4552-d2fa-43b0879b522b"
      },
      "outputs": [
        {
          "name": "stdout",
          "output_type": "stream",
          "text": [
            "/content/drive/My Drive/Colab Notebooks/RCV/Images/*\n"
          ]
        }
      ],
      "source": [
        "\n",
        "path = '/content/drive/My Drive/Colab Notebooks/RCV/Images/*'"
      ]
    },
    {
      "cell_type": "code",
      "execution_count": null,
      "metadata": {
        "id": "Fn02W5OKLXmE"
      },
      "outputs": [],
      "source": [
        "# Create custom Dataset for your images\n",
        "# https://pytorch.org/tutorials/beginner/data_loading_tutorial.html\n",
        "class CustomDataset(Dataset):\n",
        "    def __init__(self, root_dir, transform=None):\n",
        "        self.transform = transform\n",
        "        self.dataset = []\n",
        "        self.true_vals = []\n",
        "        self.root_dir = root_dir\n",
        "        classes = glob.glob(root_dir)\n",
        "        label_dict = {\"Ost1.jpg\":9,\n",
        "                \"Ost2.jpg\":9,\n",
        "                \"HH1.jpg\":4,\n",
        "                \"HH2.jpg\":4,\n",
        "                \"HV1.jpg\":66,\n",
        "                \"HV2.jpg\":66,\n",
        "                \"Peacock1.jpg\":84,\n",
        "                \"Peacock2.jpg\":84,\n",
        "                \"G1.jpg\":366,\n",
        "                \"G2.jpg\":366}\n",
        "      \n",
        "        for c in classes:\n",
        "            self.dataset += [[c, label_dict[ntpath.basename(c)]]]\n",
        "            self.true_vals += [label_dict[ntpath.basename(c)]]\n",
        "        print(self.true_vals)\n",
        "    def __len__(self):\n",
        "        return len(self.dataset)\n",
        "    \n",
        "    def __getitem__(self, index):\n",
        "        image_path, target = self.dataset[index]\n",
        "        image = Image.open(image_path)\n",
        "        image = transforms.ToTensor()(image)\n",
        "        ''' Dont need this because transform is None\n",
        "        if self.transform:\n",
        "            image = self.transform(image)\n",
        "       '''\n",
        "        return image, target"
      ]
    },
    {
      "cell_type": "code",
      "execution_count": null,
      "metadata": {
        "colab": {
          "base_uri": "https://localhost:8080/",
          "height": 35
        },
        "id": "dMHcy3ZbLXmc",
        "outputId": "b15a2523-a6dc-494a-b9c0-968d57b94ce7"
      },
      "outputs": [
        {
          "name": "stdout",
          "output_type": "stream",
          "text": [
            "[9, 9, 4, 4, 66, 66, 84, 84, 366, 366]\n"
          ]
        }
      ],
      "source": [
        "# Create a DataLoader for your dataset\n",
        "root_dir = path\n",
        "transform = None\n",
        "custom_dataset = CustomDataset(root_dir, transform)\n",
        "loader = DataLoader(custom_dataset, batch_size=1)"
      ]
    },
    {
      "cell_type": "code",
      "execution_count": null,
      "metadata": {
        "colab": {
          "base_uri": "https://localhost:8080/",
          "height": 348
        },
        "id": "VkHtMglYLXmy",
        "outputId": "bed8ea29-f9d8-4a8b-8d64-a3cde2cc290e"
      },
      "outputs": [
        {
          "name": "stdout",
          "output_type": "stream",
          "text": [
            "Accuracy:  70.0 %\n",
            "           Predicted Values\n",
            "[[  -1    9    4   66   84  366 1000]\n",
            " [   9    2    0    0    0    0    0]\n",
            " [   4    0    1    0    0    0    1]\n",
            " [  66    0    0    1    0    0    1]\n",
            " [  84    0    0    0    2    0    0]\n",
            " [ 366    0    0    0    0    1    1]\n",
            " [1000    0    0    0    0    0    0]]\n",
            "       Target Values on the left\n",
            "Class Number:  9 has Precision :  1.0 and has recall:  1.0 and F1 score : 1.0\n",
            "Class Number:  4 has Precision :  0.5 and has recall:  1.0 and F1 score : 0.6666666666666666\n",
            "Class Number:  66 has Precision :  0.5 and has recall:  1.0 and F1 score : 0.6666666666666666\n",
            "Class Number:  84 has Precision :  1.0 and has recall:  1.0 and F1 score : 1.0\n",
            "Class Number:  366 has Precision :  0.5 and has recall:  1.0 and F1 score : 0.6666666666666666\n",
            "Class Number:  1000 has Precision :  0 and has recall:  0.0 and F1 score : 0\n"
          ]
        },
        {
          "name": "stderr",
          "output_type": "stream",
          "text": [
            "/usr/local/lib/python3.6/dist-packages/ipykernel_launcher.py:36: RuntimeWarning: invalid value encountered in long_scalars\n",
            "/usr/local/lib/python3.6/dist-packages/ipykernel_launcher.py:42: RuntimeWarning: invalid value encountered in double_scalars\n"
          ]
        }
      ],
      "source": [
        "# Cycle through custom dataset and pass data into the model\n",
        "model.eval()\n",
        "loss = 0\n",
        "correct = 0\n",
        "pred_vals = []\n",
        "class_vals = [9, 4, 66, 84, 366, 1000]\n",
        "#other = 1000\n",
        "target_vals = []\n",
        "with torch.no_grad():\n",
        "  for (image, target) in loader:\n",
        "      image = image.to(device)\n",
        "      target = target.to(device)\n",
        "      target_vals += [target.cpu().numpy().item()]\n",
        "\n",
        "\n",
        "      prediction = model(image)\n",
        "      loss += torch.nn.functional.nll_loss(prediction, target, reduction = 'sum').item()\n",
        "      pred = prediction.argmax(dim=1, keepdim = True)\n",
        "      correct += pred.eq(target.view_as(pred)).sum().item()\n",
        "      index = prediction.cpu().data.numpy().argmax()\n",
        "      if index in class_vals:\n",
        "        pred_vals += [index]\n",
        "      else:\n",
        "        pred_vals += [1000]\n",
        "  accuracy = 100.* correct / len(loader.dataset)\n",
        "  confusion = sklearn.metrics.confusion_matrix(target_vals, pred_vals, labels = class_vals)\n",
        "  print(\"Accuracy: \",accuracy, \"%\")\n",
        "I \n",
        "\n",
        "  precision = []\n",
        "  recall = []\n",
        "  fscore = []\n",
        "  for i in range(0, len(class_vals)):\n",
        "\n",
        "    recall += [confusion[i,i] / sum(confusion[:,i])]\n",
        "    if np.isnan([confusion[i,i] / sum(confusion[i,:])]):\n",
        "      precision += [0]\n",
        "    else:\n",
        "      precision += [confusion[i,i] / sum(confusion[i,:])]\n",
        "\n",
        "\n",
        "    if np.isnan((precision[i] * recall[i]) * 2/ (precision[i] + recall[i])):\n",
        "      fscore += [0]\n",
        "    else:\n",
        "      fscore += [(precision[i] * recall[i]) * 2/ (precision[i] + recall[i])]\n",
        "\n",
        "  confusion = np.insert(confusion, 0, [9,4,66,84,366,1000], axis = 1)\n",
        "  confusion = np.insert(confusion, 0, [-1,9,4,66,84,366,1000], axis = 0)\n",
        "  print(\"           Predicted Values\")\n",
        "  print(confusion)\n",
        "  print(\"       Target Values on the left\")  \n",
        "\n",
        "\n",
        "  for i in range(0, len(class_vals)):\n",
        "    print(\"Class Number: \", class_vals[i], \"has Precision : \", precision[i], \"and has recall: \", recall[i], \"and F1 score :\", fscore[i])"
      ]
    }
  ],
  "metadata": {
    "accelerator": "GPU",
    "colab": {
      "collapsed_sections": [],
      "name": "RCV_P1_1.ipynb",
      "provenance": []
    },
    "kernelspec": {
      "display_name": "Python 3",
      "language": "python",
      "name": "python3"
    },
    "language_info": {
      "codemirror_mode": {
        "name": "ipython",
        "version": 3
      },
      "file_extension": ".py",
      "mimetype": "text/x-python",
      "name": "python",
      "nbconvert_exporter": "python",
      "pygments_lexer": "ipython3",
      "version": "3.7.6"
    },
    "widgets": {
      "application/vnd.jupyter.widget-state+json": {
        "1c27bb451a2d43a68e046b137a3dd992": {
          "model_module": "@jupyter-widgets/controls",
          "model_name": "DescriptionStyleModel",
          "state": {
            "_model_module": "@jupyter-widgets/controls",
            "_model_module_version": "1.5.0",
            "_model_name": "DescriptionStyleModel",
            "_view_count": null,
            "_view_module": "@jupyter-widgets/base",
            "_view_module_version": "1.2.0",
            "_view_name": "StyleView",
            "description_width": ""
          }
        },
        "3c42c63960044293b3bb6c5cacd64a37": {
          "model_module": "@jupyter-widgets/base",
          "model_name": "LayoutModel",
          "state": {
            "_model_module": "@jupyter-widgets/base",
            "_model_module_version": "1.2.0",
            "_model_name": "LayoutModel",
            "_view_count": null,
            "_view_module": "@jupyter-widgets/base",
            "_view_module_version": "1.2.0",
            "_view_name": "LayoutView",
            "align_content": null,
            "align_items": null,
            "align_self": null,
            "border": null,
            "bottom": null,
            "display": null,
            "flex": null,
            "flex_flow": null,
            "grid_area": null,
            "grid_auto_columns": null,
            "grid_auto_flow": null,
            "grid_auto_rows": null,
            "grid_column": null,
            "grid_gap": null,
            "grid_row": null,
            "grid_template_areas": null,
            "grid_template_columns": null,
            "grid_template_rows": null,
            "height": null,
            "justify_content": null,
            "justify_items": null,
            "left": null,
            "margin": null,
            "max_height": null,
            "max_width": null,
            "min_height": null,
            "min_width": null,
            "object_fit": null,
            "object_position": null,
            "order": null,
            "overflow": null,
            "overflow_x": null,
            "overflow_y": null,
            "padding": null,
            "right": null,
            "top": null,
            "visibility": null,
            "width": null
          }
        },
        "6e8dcebcad084e4b89a1d5a9286bfe37": {
          "model_module": "@jupyter-widgets/controls",
          "model_name": "HTMLModel",
          "state": {
            "_dom_classes": [],
            "_model_module": "@jupyter-widgets/controls",
            "_model_module_version": "1.5.0",
            "_model_name": "HTMLModel",
            "_view_count": null,
            "_view_module": "@jupyter-widgets/controls",
            "_view_module_version": "1.5.0",
            "_view_name": "HTMLView",
            "description": "",
            "description_tooltip": null,
            "layout": "IPY_MODEL_aaf6890d0b4847f3968952f595ecb8ff",
            "placeholder": "​",
            "style": "IPY_MODEL_1c27bb451a2d43a68e046b137a3dd992",
            "value": " 132M/132M [02:22&lt;00:00, 972kB/s]"
          }
        },
        "7be9dfe751474f5695fc8321b0d832bc": {
          "model_module": "@jupyter-widgets/base",
          "model_name": "LayoutModel",
          "state": {
            "_model_module": "@jupyter-widgets/base",
            "_model_module_version": "1.2.0",
            "_model_name": "LayoutModel",
            "_view_count": null,
            "_view_module": "@jupyter-widgets/base",
            "_view_module_version": "1.2.0",
            "_view_name": "LayoutView",
            "align_content": null,
            "align_items": null,
            "align_self": null,
            "border": null,
            "bottom": null,
            "display": null,
            "flex": null,
            "flex_flow": null,
            "grid_area": null,
            "grid_auto_columns": null,
            "grid_auto_flow": null,
            "grid_auto_rows": null,
            "grid_column": null,
            "grid_gap": null,
            "grid_row": null,
            "grid_template_areas": null,
            "grid_template_columns": null,
            "grid_template_rows": null,
            "height": null,
            "justify_content": null,
            "justify_items": null,
            "left": null,
            "margin": null,
            "max_height": null,
            "max_width": null,
            "min_height": null,
            "min_width": null,
            "object_fit": null,
            "object_position": null,
            "order": null,
            "overflow": null,
            "overflow_x": null,
            "overflow_y": null,
            "padding": null,
            "right": null,
            "top": null,
            "visibility": null,
            "width": null
          }
        },
        "7e2932099f5c481fa3f2e0fe48f0bb0f": {
          "model_module": "@jupyter-widgets/controls",
          "model_name": "FloatProgressModel",
          "state": {
            "_dom_classes": [],
            "_model_module": "@jupyter-widgets/controls",
            "_model_module_version": "1.5.0",
            "_model_name": "FloatProgressModel",
            "_view_count": null,
            "_view_module": "@jupyter-widgets/controls",
            "_view_module_version": "1.5.0",
            "_view_name": "ProgressView",
            "bar_style": "success",
            "description": "100%",
            "description_tooltip": null,
            "layout": "IPY_MODEL_3c42c63960044293b3bb6c5cacd64a37",
            "max": 138223492,
            "min": 0,
            "orientation": "horizontal",
            "style": "IPY_MODEL_bf06573b6aa6430e9561663738e722bd",
            "value": 138223492
          }
        },
        "aaf6890d0b4847f3968952f595ecb8ff": {
          "model_module": "@jupyter-widgets/base",
          "model_name": "LayoutModel",
          "state": {
            "_model_module": "@jupyter-widgets/base",
            "_model_module_version": "1.2.0",
            "_model_name": "LayoutModel",
            "_view_count": null,
            "_view_module": "@jupyter-widgets/base",
            "_view_module_version": "1.2.0",
            "_view_name": "LayoutView",
            "align_content": null,
            "align_items": null,
            "align_self": null,
            "border": null,
            "bottom": null,
            "display": null,
            "flex": null,
            "flex_flow": null,
            "grid_area": null,
            "grid_auto_columns": null,
            "grid_auto_flow": null,
            "grid_auto_rows": null,
            "grid_column": null,
            "grid_gap": null,
            "grid_row": null,
            "grid_template_areas": null,
            "grid_template_columns": null,
            "grid_template_rows": null,
            "height": null,
            "justify_content": null,
            "justify_items": null,
            "left": null,
            "margin": null,
            "max_height": null,
            "max_width": null,
            "min_height": null,
            "min_width": null,
            "object_fit": null,
            "object_position": null,
            "order": null,
            "overflow": null,
            "overflow_x": null,
            "overflow_y": null,
            "padding": null,
            "right": null,
            "top": null,
            "visibility": null,
            "width": null
          }
        },
        "bf06573b6aa6430e9561663738e722bd": {
          "model_module": "@jupyter-widgets/controls",
          "model_name": "ProgressStyleModel",
          "state": {
            "_model_module": "@jupyter-widgets/controls",
            "_model_module_version": "1.5.0",
            "_model_name": "ProgressStyleModel",
            "_view_count": null,
            "_view_module": "@jupyter-widgets/base",
            "_view_module_version": "1.2.0",
            "_view_name": "StyleView",
            "bar_color": null,
            "description_width": "initial"
          }
        },
        "de6c842ccad5452f94d0288f2e2aff50": {
          "model_module": "@jupyter-widgets/controls",
          "model_name": "HBoxModel",
          "state": {
            "_dom_classes": [],
            "_model_module": "@jupyter-widgets/controls",
            "_model_module_version": "1.5.0",
            "_model_name": "HBoxModel",
            "_view_count": null,
            "_view_module": "@jupyter-widgets/controls",
            "_view_module_version": "1.5.0",
            "_view_name": "HBoxView",
            "box_style": "",
            "children": [
              "IPY_MODEL_7e2932099f5c481fa3f2e0fe48f0bb0f",
              "IPY_MODEL_6e8dcebcad084e4b89a1d5a9286bfe37"
            ],
            "layout": "IPY_MODEL_7be9dfe751474f5695fc8321b0d832bc"
          }
        }
      }
    }
  },
  "nbformat": 4,
  "nbformat_minor": 0
}
